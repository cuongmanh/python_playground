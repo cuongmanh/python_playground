{
 "cells": [
  {
   "cell_type": "code",
   "execution_count": 2,
   "metadata": {},
   "outputs": [],
   "source": [
    "strArr = \"name1 name2 123\".split()\n"
   ]
  },
  {
   "cell_type": "code",
   "execution_count": 44,
   "metadata": {},
   "outputs": [
    {
     "name": "stdout",
     "output_type": "stream",
     "text": [
      "[[' Al Noori Muslim Primary School Greenacre', '94'], [' All Hallows Primary School Five Dock', '45'], [' Annandale North Public School Annandale', '49'], [' Arcadia Vale Public School Arcadia Vale', '5'], [' Ascham School Ltd Edgecliff', '20'], [' Australia Street Infants School Newtown', '53'], [' Balmain Public School Balmain', '26'], [' Beecroft Public School Beecroft', '34'], [' Bronte Public School Bronte', '80'], [' Bunnaloo Public School Bunnaloo', '92'], [' Cammeray Public School Cammeray', '72'], [' Carlingford West Public School Carlingford', '15'], [' Castle Cove Public School Castle Cove', '52'], [' Chatswood Public School Chatswood', '65'], [' Christadelphian Heritage College Cooranbong', '71'], [' Claremont College Randwick', '84'], [\" Coogee Boys' Preparatory School Randwick\", '48'], [' Crossmaglen Public School Crossmaglen', '96'], [' Currambena School Lane Cove', '29'], [' Dalgety Public School Dalgety', '43'], [' Denistone East Public School Eastwood', '38'], [' Drummoyne Public School Drummoyne', '78'], [' Eastwood Public School Eastwood', '39'], [' Epping Heights Public School Epping', '35'], [' Epping North Public School North Epping', '59'], [' Epping Public School Epping', '50'], [' Epping West Public School Epping', '17'], [' Errowanbang Public School Carcoar', '55'], [' Erskineville Public School Erskineville', '79'], [' Excelsior Public School Castle Hill', '70'], [' Forestville Montessori School Forestville', '88'], [' Fr John Therry Catholic Primary School Balmain', '58'], [' Gladesville Public School Gladesville', '44'], [' Gladstone Public School Gladstone', '25'], [' Glenaeon Rudolf Steiner School Limited Middle Cove', '43'], ['', '2'], [' Gordon West Public School Pymble', '48'], [' Highfields Preparatory & Kindergarten School Limited Lindfield', '4'], [' Holy Cross Junior School Bondi Junction', '46'], [' Holy Family Catholic Primar Catholic Primary School Lindfield', '11'], ['', '5'], ['', '3'], [' Hornsby North Public School Hornsby', '33'], [' Hunters Hill Public School Hunters Hill', '52'], [' Hurstville Public School Hurstville', '69'], [' John Colet School Belrose', '6'], [' John Purchase Public School Cherrybrook', '88'], [' Kamaroi Rudolf Steiner School Belrose', '83'], [' Kambala Rose Bay', '89'], [' Kareela Public School Kareela', '83'], [' Killara Public School Killara', '42'], [' Kincoppal-Rose Bay School of the Sacred Heart Rose Bay', '36'], [' Kinma School Terrey Hills', '80'], [' Knox Grammar School Wahroonga', '86'], [' Lane Cove Public School Lane Cove', '87'], [' Leichhardt Public School Leichhardt', '31'], [' Lindfield East Public School East Lindfield', '42'], [' Lord Howe Island Central School Lord Howe Island', '53'], [' Loreto Kirribilli Kirribilli', '47'], [' Macquarie College Wallsend', '97'], [' Malek Fahd Islamic School Greenacre', '76'], [' Manly Vale Public School Manly Vale', '22'], [' Manly West Public School Balgowlah', '99'], [' Masada College Lindfield', '70'], [' Matthew Pearce Public School Baulkham Hills', '28'], [' McAuley Primary School Rose Bay', '94'], [' Meriden School Strathfield', '21'], [' Middle Dural Public School Middle Dural', '91'], [' Middle Harbour Public School Mosman', '55'], [' MLC School Burwood', '43'], [' Montessori East Bondi', '67'], [' Montessori Excelsior School Pymble', '1'], [' Mosman Church of England Preparatory School Mosman', '8'], [' Mount Keira Public School Mount Keira', '56'], [' Mount Sinai College Maroubra', '37'], [' Murray Farm Public School Carlingford', '27'], [' Neutral Bay Public School Neutral Bay', '24'], [' New Lambton Heights Infants School New Lambton Heights', '98'], [' New Lambton Public School New Lambton', '54'], [' Newington Public School Newington', '72'], [' Newrybar Public School Newrybar', '99'], [' North Rocks Public School North Rocks', '52'], [' Northbridge Public School Northbridge', '96'], [' Northholm Grammar School Arcadia', '58'], [' Nowra Hill Public School Nowra', '97'], [' Our Lady Help of Christians Catholic Primary School Epping', '64'], [' Our Lady of the Rosary School Kensington', '12'], [' Our Lady of the Sacred Heart School Randwick', '93'], [' Pennant Hills Public School Pennant Hills', '93'], [' Pittwater House Girls College Collaroy', '63'], [' Presbyterian yterian Ladies Colle Ladies College Croydon', '82'], [\" Pymble Ladies' College Pymble\", '32'], [' Pymble Public School Pymble', '30'], [' Queenwood School for Girls Ltd Mosman', '13'], [' Raleigh Public School Raleigh', '61'], [' Ravenswood School for Girls Gordon', '54'], [' Roseville College Roseville', '94'], [' Russell Lea Infants School Five Dock', '96'], [' Sacred Heart School Mosman', '74'], [' SCEGGS, Darlinghurst Darlinghurst', '10'], [\" St Agatha's Catholic Primary School Pennant Hills\", '67'], [\" St Aloysius' College Milsons Point\", '16'], [\" St Ambrose' Primary School Concord West\", '73'], [\" St Augustine's College Brookvale\", '99'], [\" St Cecilia's Catholic Primary School Balgowlah\", '91'], [\" St Charles' School Waverley\", '68'], [\" St Francis' School Paddington\", '3'], [\" St Gerard's Catholic Primary School Carlingford\", '96'], [\" St Ignatius' College Lane Cove\", '32'], [' St Ives North Public School St Ives', '16'], [\" St Joseph's Primary School Woodburn\", '51'], [\" St Luke's Grammar School Dee Why\", '53'], [\" St Margaret Mary's School Randwick North\", '23'], [\" St Martin's Catholic Primary School Davidson\", '92'], [\" St Mary's Preparatory School North Sydney\", '4'], [\" St Mary's School Erskineville\", '40'], [\" St Michael's Catholic Primary School Thirroul\", '98'], [\" St Oliver's Primary School Harris Park\", '58'], [\" St Patrick's Catholic Primary School Asquith\", '81'], [' St Philip Neri Catholic Primary School Northbridge', '18'], [' St Pius X College Chatswood', '53'], [\" St Raphael's Primary School South Hurstville\", '91'], [' Summer Hill Public School Summer Hill', '19'], [' Sydney Church of England Grammar School North Sydney', '95'], [' Sydney Distance Education Primary School Stanmore', '29'], [' Sydney Grammar School, Edgecliff Preparatory School Paddington', '1'], [' Sydney Grammar School, St Ives Preparatory School St Ives', '2'], [' Sydney Japanese School Terrey Hills', '52'], [' Tangara School for Girls Cherrybrook', '56'], [' Tanja Public School Tanja', '93'], [' Tara Anglican School for Girls North Parramatta', '41'], [' Taverners Hill Infants School Petersham', '83'], [\" The King's School North Parramatta\", '57'], [' The Scots School Albury Albury', '98'], [' Tregeagle Public School Tregeagle', '90'], [' Villa Maria Primary School Hunters Hill', '85'], [' y School Wahroon School Wahroonga', '15'], [' Wahroonga Public School Wahroonga', '88'], [' Waitara Public School Wahroonga', '66'], [' Wenona School Ltd North Sydney', '62'], [' Wilsons Creek Public School Mullumbimby', '33'], [' Wollombi Public School Wollombi', '64'], [' Woollahra Public School Woollahra', '7'], [' Yanginanook School Belrose', '97'], [' Abbotsleigh Wahroonga', '9']]\n"
     ]
    }
   ],
   "source": [
    "schools = open(\"schools.txt\",\"r\")\n",
    "lines = schools.readlines()\n",
    "results = []\n",
    "for line in lines[:]:\n",
    "    strArr = line.split();\n",
    "    i=0\n",
    "    condition=True\n",
    "    name = \"\"\n",
    "    while  (i < len(strArr)) and (not strArr[i].isdigit()):\n",
    "        name = name + \" \" + strArr[i]\n",
    "        i=i+1\n",
    "    if (i == len(strArr)):\n",
    "        continue\n",
    "    #while condition:\n",
    "     #   condition = not strArr[i].isdigit()\n",
    "      #i=i+1\n",
    "    #print(name)\n",
    "    #print(strArr[i])\n",
    "    if (int(strArr[i]) <100):\n",
    "        results.insert(-1,[name,strArr[i]])\n",
    "for [name score] in results:\n",
    "    print(name)\n",
    "\n"
   ]
  }
 ],
 "metadata": {
  "kernelspec": {
   "display_name": "Python 3",
   "language": "python",
   "name": "python3"
  },
  "language_info": {
   "codemirror_mode": {
    "name": "ipython",
    "version": 3
   },
   "file_extension": ".py",
   "mimetype": "text/x-python",
   "name": "python",
   "nbconvert_exporter": "python",
   "pygments_lexer": "ipython3",
   "version": "3.6.4"
  }
 },
 "nbformat": 4,
 "nbformat_minor": 2
}
